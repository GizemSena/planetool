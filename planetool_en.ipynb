{
  "nbformat": 4,
  "nbformat_minor": 0,
  "metadata": {
    "colab": {
      "provenance": [],
      "authorship_tag": "ABX9TyO8dnhMhNeuH32R25PE5r+E",
      "include_colab_link": true
    },
    "kernelspec": {
      "name": "python3",
      "display_name": "Python 3"
    },
    "language_info": {
      "name": "python"
    }
  },
  "cells": [
    {
      "cell_type": "markdown",
      "metadata": {
        "id": "view-in-github",
        "colab_type": "text"
      },
      "source": [
        "<a href=\"https://colab.research.google.com/github/GizemSena/planetool/blob/main/planetool_en.ipynb\" target=\"_parent\"><img src=\"https://colab.research.google.com/assets/colab-badge.svg\" alt=\"Open In Colab\"/></a>"
      ]
    },
    {
      "cell_type": "code",
      "execution_count": null,
      "metadata": {
        "colab": {
          "base_uri": "https://localhost:8080/"
        },
        "id": "8MTKsyS7MZ8U",
        "outputId": "831067a9-e211-49d5-958e-dc564435dba9"
      },
      "outputs": [
        {
          "output_type": "stream",
          "name": "stdout",
          "text": [
            "Requirement already satisfied: sympy in /usr/local/lib/python3.10/dist-packages (1.13.3)\n",
            "Requirement already satisfied: mpmath<1.4,>=1.1.0 in /usr/local/lib/python3.10/dist-packages (from sympy) (1.3.0)\n"
          ]
        }
      ],
      "source": [
        "!pip install sympy"
      ]
    },
    {
      "cell_type": "code",
      "source": [
        "import pandas as pd\n",
        "import math\n",
        "import numpy as np\n",
        "import sympy as sp\n",
        "\n",
        "class planetool:\n",
        "\n",
        "    def magnetic_field(self, R, m):\n",
        "        pi = 3.14159\n",
        "        mu_0 = 4 * pi * 10**(-7)\n",
        "        # R: planet's radius\n",
        "        # B: magnetic field intensity\n",
        "        B = ((self.mu_0) / (4 * self.pi)) * (self.m / R**3)\n",
        "        return B\n",
        "\n",
        "    def coriolis(self, w, phi, mh, vh):\n",
        "        radian_phi = np.radians(self.phi)\n",
        "        # Calculate sin(phi)\n",
        "        sin_phi = np.sin(radian_phi)\n",
        "        # Fc: coriolis force\n",
        "        Fc = 2 * mh * vh * w * sin_phi\n",
        "        return Fc\n",
        "\n",
        "    def tidal_force(self, Mc, m, rc, R):\n",
        "        G = 6.67 * 10**(-11)\n",
        "        # Ftital: tidal force\n",
        "        F_total = 2 * ((self.G * self.Mc * self.m) / (self.rc**3)) * R\n",
        "        return F_total\n",
        "\n",
        "    def wave_energy(self, R, ro, A, m):\n",
        "        G = 6.67 * 10**(-11)\n",
        "        g = self.G * self.m / (R**2)\n",
        "        # Ed: wave energy\n",
        "        Ed = (1 / 2) * ro * g * (A**2)\n",
        "        return Ed\n",
        "\n",
        "    def pressure(self, R, m, P0, ro, h):\n",
        "        G = 6.67 * 10**(-11)\n",
        "        g = self.G * self.m / (R**2)\n",
        "        # P: pressure\n",
        "        P = P0 + self.h * ro * self.g\n",
        "        return P\n",
        "\n",
        "    def heat_flow(self, k, x, y, z):\n",
        "        x, y, z = sp.symbols('x y z')\n",
        "        f = x**2 + y**3 + z**2\n",
        "        df_dx = sp.diff(f, x)  # derivative in x direction\n",
        "        df_dy = sp.diff(f, y)  # derivative in y direction\n",
        "        df_dz = sp.diff(f, z)  # derivative in z direction\n",
        "        # q: heat flow\n",
        "        q = (-self.k) * (df_dx + df_dy + df_dz)\n",
        "        return q\n",
        "\n",
        "    def gibbs_energy(self, DeltaH, T, DeltaS):\n",
        "        # DeltaG: change in Gibbs free energy\n",
        "        DeltaG = self.DeltaH - (self.T * self.DeltaS)\n",
        "        return DeltaG\n",
        "\n",
        "    def enthalpy_change(self, H_products, H_reactants):\n",
        "        # DeltaH: change in enthalpy\n",
        "        DeltaH = sum(H_products) - sum(H_reactants)\n",
        "        return DeltaH\n",
        "\n",
        "    def surface_area(self, R):\n",
        "        pi = 3.14159\n",
        "        # A: surface area\n",
        "        A = 4 * self.pi * (R**2)\n",
        "        return A\n",
        "\n",
        "    def ocean_volume(self, R, ocean_fraction):\n",
        "        pi = 3.14159\n",
        "        # V_ocean: ocean volume\n",
        "        V_ocean = (4 / 3) * self.pi * (R**3) * self.ocean_fraction\n",
        "        return V_ocean\n",
        "\n",
        "    def escape_velocity(self, R, M):\n",
        "        G = 6.67 * 10**(-11)\n",
        "        # V_escape: escape velocity\n",
        "        V_escape = math.sqrt((2 * self.G * M) / R)\n",
        "        return V_escape\n"
      ],
      "metadata": {
        "id": "QPDFobTkMeFb"
      },
      "execution_count": null,
      "outputs": []
    },
    {
      "cell_type": "code",
      "source": [],
      "metadata": {
        "id": "BFQM_0O7MkIi"
      },
      "execution_count": null,
      "outputs": []
    }
  ]
}